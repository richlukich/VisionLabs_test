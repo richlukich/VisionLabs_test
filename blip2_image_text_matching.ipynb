{
 "cells": [
  {
   "cell_type": "code",
   "execution_count": 1,
   "metadata": {},
   "outputs": [
    {
     "name": "stdout",
     "output_type": "stream",
     "text": [
      "Jupyter environment detected. Enabling Open3D WebVisualizer.\n",
      "[Open3D INFO] WebRTC GUI backend enabled.\n",
      "[Open3D INFO] WebRTCWindowSystem: HTTP handshake server disabled.\n"
     ]
    }
   ],
   "source": [
    "import torch\n",
    "from PIL import Image\n",
    "\n",
    "from lavis.models import load_model_and_preprocess\n",
    "from lavis.processors import load_processor"
   ]
  },
  {
   "cell_type": "markdown",
   "metadata": {},
   "source": [
    "#### Load an example image and text"
   ]
  },
  {
   "cell_type": "code",
   "execution_count": 20,
   "metadata": {},
   "outputs": [
    {
     "data": {
      "image/jpeg": "[encoded data removed]",
      "image/png": "[encoded data removed]",
      "text/plain": [
       "<PIL.Image.Image image mode=RGB size=128x128>"
      ]
     },
     "metadata": {},
     "output_type": "display_data"
    }
   ],
   "source": [
    "raw_image = Image.open(\"/home/lukavetoshkin/vision_labs/eyes_dataset/test/open/000108.jpg\").convert(\"RGB\")\n",
    "display(raw_image.resize((128, 128)))"
   ]
  },
  {
   "cell_type": "code",
   "execution_count": 12,
   "metadata": {},
   "outputs": [],
   "source": [
    "# setup device to use\n",
    "device = torch.device(\"cuda\") if torch.cuda.is_available() else \"cpu\""
   ]
  },
  {
   "cell_type": "code",
   "execution_count": 23,
   "metadata": {},
   "outputs": [],
   "source": [
    "caption = \"closed eye\""
   ]
  },
  {
   "cell_type": "markdown",
   "metadata": {},
   "source": [
    "#### Load model and preprocessors"
   ]
  },
  {
   "cell_type": "code",
   "execution_count": 5,
   "metadata": {},
   "outputs": [
    {
     "name": "stderr",
     "output_type": "stream",
     "text": [
      "WARNING - 2024-06-20 14:24:39,060 - warnings - /home/lukavetoshkin/anaconda3/envs/lavis/lib/python3.8/site-packages/huggingface_hub/file_download.py:1132: FutureWarning: `resume_download` is deprecated and will be removed in version 1.0.0. Downloads always resume when possible. If you want to force a new download, use `force_download=True`.\n",
      "  warnings.warn(\n",
      "\n",
      "INFO - 2024-06-20 14:24:48,508 - hub - Downloading: \"https://storage.googleapis.com/sfr-vision-language-research/LAVIS/models/BLIP2/eva_vit_g.pth\" to /home/lukavetoshkin/.cache/torch/hub/checkpoints/eva_vit_g.pth\n",
      "\n",
      "100%|██████████| 1.89G/1.89G [02:18<00:00, 14.6MB/s]\n",
      "INFO - 2024-06-20 14:27:10,812 - blip2_qformer - freeze vision encoder\n",
      "INFO - 2024-06-20 14:27:12,894 - hub - Downloading: \"https://storage.googleapis.com/sfr-vision-language-research/LAVIS/models/BLIP2/blip2_pretrained.pth\" to /home/lukavetoshkin/.cache/torch/hub/checkpoints/blip2_pretrained.pth\n",
      "\n",
      "100%|██████████| 712M/712M [00:50<00:00, 14.7MB/s] \n",
      "INFO - 2024-06-20 14:28:04,289 - blip2 - load checkpoint from https://storage.googleapis.com/sfr-vision-language-research/LAVIS/models/BLIP2/blip2_pretrained.pth\n"
     ]
    }
   ],
   "source": [
    "model, vis_processors, text_processors = load_model_and_preprocess(\"blip2_image_text_matching\", \"pretrain\", device=device, is_eval=True)\n",
    "# model, vis_processors, text_processors = load_model_and_preprocess(\"blip2_image_text_matching\", \"coco\", device=device, is_eval=True)"
   ]
  },
  {
   "cell_type": "markdown",
   "metadata": {},
   "source": [
    "#### Preprocess image and text inputs"
   ]
  },
  {
   "cell_type": "code",
   "execution_count": 24,
   "metadata": {},
   "outputs": [],
   "source": [
    "img = vis_processors[\"eval\"](raw_image).unsqueeze(0).to(device)\n",
    "txt = text_processors[\"eval\"](caption)"
   ]
  },
  {
   "cell_type": "markdown",
   "metadata": {},
   "source": [
    "#### Compute image-text matching (ITM) score"
   ]
  },
  {
   "cell_type": "code",
   "execution_count": 25,
   "metadata": {},
   "outputs": [
    {
     "name": "stdout",
     "output_type": "stream",
     "text": [
      "The image and text are matched with a probability of 5.313%\n"
     ]
    }
   ],
   "source": [
    "itm_output = model({\"image\": img, \"text_input\": txt}, match_head=\"itm\")\n",
    "itm_scores = torch.nn.functional.softmax(itm_output, dim=1)\n",
    "print(f'The image and text are matched with a probability of {itm_scores[:, 1].item():.3%}')"
   ]
  },
  {
   "cell_type": "code",
   "execution_count": 26,
   "metadata": {},
   "outputs": [
    {
     "name": "stdout",
     "output_type": "stream",
     "text": [
      "The image feature and text feature has a cosine similarity of 0.3054\n"
     ]
    }
   ],
   "source": [
    "itc_score = model({\"image\": img, \"text_input\": txt}, match_head='itc')\n",
    "print('The image feature and text feature has a cosine similarity of %.4f'%itc_score)"
   ]
  },
  {
   "cell_type": "code",
   "execution_count": 27,
   "metadata": {},
   "outputs": [
    {
     "name": "stdout",
     "output_type": "stream",
     "text": [
      "The image and text are matched with a probability of 14.411%\n"
     ]
    }
   ],
   "source": [
    "itm_output = model({\"image\": img, \"text_input\": 'open eye or pupil'}, match_head=\"itm\")\n",
    "itm_scores = torch.nn.functional.softmax(itm_output, dim=1)\n",
    "print(f'The image and text are matched with a probability of {itm_scores[:, 1].item():.3%}')"
   ]
  },
  {
   "cell_type": "code",
   "execution_count": 38,
   "metadata": {},
   "outputs": [
    {
     "name": "stderr",
     "output_type": "stream",
     "text": [
      "100%|██████████| 50/50 [00:05<00:00,  9.95it/s]"
     ]
    },
    {
     "name": "stdout",
     "output_type": "stream",
     "text": [
      "accuracy 0.88\n"
     ]
    },
    {
     "name": "stderr",
     "output_type": "stream",
     "text": [
      "\n"
     ]
    }
   ],
   "source": [
    "import os\n",
    "from tqdm import tqdm\n",
    "preds = []\n",
    "\n",
    "for item in tqdm(sorted(os.listdir('/home/lukavetoshkin/vision_labs/eyes_dataset/test/close'))):\n",
    "    img_path = os.path.join('/home/lukavetoshkin/vision_labs/LAVIS/EyesDataset',item)\n",
    "    raw_image = Image.open(img_path).convert(\"RGB\")\n",
    "    caption = 'closed eye '\n",
    "\n",
    "    img = vis_processors[\"eval\"](raw_image).unsqueeze(0).to(device)\n",
    "    txt = text_processors[\"eval\"](caption)\n",
    "    \n",
    "    itm_output_closed = model({\"image\": img, \"text_input\": txt}, match_head=\"itm\")\n",
    "    itm_scores_closed = torch.nn.functional.softmax(itm_output_closed, dim=1)\n",
    "    score_close = itm_scores_closed[:, 1]\n",
    "\n",
    "    caption = 'open eye or pupil'\n",
    "    txt = text_processors[\"eval\"](caption)\n",
    "\n",
    "    itm_output_opened = model({\"image\": img, \"text_input\": txt}, match_head=\"itm\")\n",
    "    itm_scores_opened = torch.nn.functional.softmax(itm_output_opened, dim=1)\n",
    "\n",
    "    score_open = itm_scores_opened[:, 1]\n",
    "\n",
    "    if score_open < score_close:\n",
    "        preds.append(1)\n",
    "    else:\n",
    "        preds.append(0)\n",
    "    \n",
    "print ('accuracy', sum(preds)/50)\n"
   ]
  },
  {
   "cell_type": "code",
   "execution_count": 37,
   "metadata": {},
   "outputs": [
    {
     "name": "stderr",
     "output_type": "stream",
     "text": [
      "100%|██████████| 50/50 [00:05<00:00,  9.80it/s]"
     ]
    },
    {
     "name": "stdout",
     "output_type": "stream",
     "text": [
      "accuracy 0.94\n"
     ]
    },
    {
     "name": "stderr",
     "output_type": "stream",
     "text": [
      "\n"
     ]
    }
   ],
   "source": [
    "import os\n",
    "from tqdm import tqdm\n",
    "preds = []\n",
    "\n",
    "for item in tqdm(sorted(os.listdir('/home/lukavetoshkin/vision_labs/eyes_dataset/test/open'))):\n",
    "    img_path = os.path.join('/home/lukavetoshkin/vision_labs/LAVIS/EyesDataset',item)\n",
    "    raw_image = Image.open(img_path).convert(\"RGB\")\n",
    "    caption = 'closed eye '\n",
    "\n",
    "    img = vis_processors[\"eval\"](raw_image).unsqueeze(0).to(device)\n",
    "    txt = text_processors[\"eval\"](caption)\n",
    "    \n",
    "    itm_output_closed = model({\"image\": img, \"text_input\": txt}, match_head=\"itm\")\n",
    "    itm_scores_closed = torch.nn.functional.softmax(itm_output_closed, dim=1)\n",
    "    score_close = itm_scores_closed[:, 1]\n",
    "\n",
    "    caption = 'open eye or pupil'\n",
    "    txt = text_processors[\"eval\"](caption)\n",
    "\n",
    "    itm_output_opened = model({\"image\": img, \"text_input\": txt}, match_head=\"itm\")\n",
    "    itm_scores_opened = torch.nn.functional.softmax(itm_output_opened, dim=1)\n",
    "\n",
    "    score_open = itm_scores_opened[:, 1]\n",
    "\n",
    "    if score_open < score_close:\n",
    "        preds.append(1)\n",
    "    else:\n",
    "        preds.append(0)\n",
    "    \n",
    "print ('accuracy', (50-sum(preds))/50)\n"
   ]
  },
  {
   "cell_type": "code",
   "execution_count": 39,
   "metadata": {},
   "outputs": [
    {
     "name": "stderr",
     "output_type": "stream",
     "text": [
      "100%|██████████| 4000/4000 [06:32<00:00, 10.18it/s]\n"
     ]
    }
   ],
   "source": [
    "import os\n",
    "from tqdm import tqdm\n",
    "preds = []\n",
    "\n",
    "for item in tqdm(sorted(os.listdir('/home/lukavetoshkin/vision_labs/LAVIS/EyesDataset'))):\n",
    "    img_path = os.path.join('/home/lukavetoshkin/vision_labs/LAVIS/EyesDataset',item)\n",
    "    raw_image = Image.open(img_path).convert(\"RGB\")\n",
    "    caption = 'closed eye '\n",
    "\n",
    "    img = vis_processors[\"eval\"](raw_image).unsqueeze(0).to(device)\n",
    "    txt = text_processors[\"eval\"](caption)\n",
    "    \n",
    "    itm_output_closed = model({\"image\": img, \"text_input\": txt}, match_head=\"itm\")\n",
    "    itm_scores_closed = torch.nn.functional.softmax(itm_output_closed, dim=1)\n",
    "    score_close = itm_scores_closed[:, 1]\n",
    "\n",
    "    caption = 'open eye or pupil'\n",
    "    txt = text_processors[\"eval\"](caption)\n",
    "\n",
    "    itm_output_opened = model({\"image\": img, \"text_input\": txt}, match_head=\"itm\")\n",
    "    itm_scores_opened = torch.nn.functional.softmax(itm_output_opened, dim=1)\n",
    "\n",
    "    score_open = itm_scores_opened[:, 1]\n",
    "\n",
    "    if score_open > score_close:\n",
    "        path_save = os.path.join('/home/lukavetoshkin/vision_labs/LAVIS/eyes_dataset_labeled/open',item)\n",
    "        raw_image.save(path_save)\n",
    "    else:\n",
    "        path_save = os.path.join('/home/lukavetoshkin/vision_labs/LAVIS/eyes_dataset_labeled/close',item)\n",
    "        raw_image.save(path_save)\n"
   ]
  },
  {
   "cell_type": "code",
   "execution_count": null,
   "metadata": {},
   "outputs": [],
   "source": []
  }
 ],
 "metadata": {
  "kernelspec": {
   "display_name": "Python 3 (ipykernel)",
   "language": "python",
   "name": "python3"
  },
  "language_info": {
   "codemirror_mode": {
    "name": "ipython",
    "version": 3
   },
   "file_extension": ".py",
   "mimetype": "text/x-python",
   "name": "python",
   "nbconvert_exporter": "python",
   "pygments_lexer": "ipython3",
   "version": "3.8.19"
  },
  "vscode": {
   "interpreter": {
    "hash": "d4d1e4263499bec80672ea0156c357c1ee493ec2b1c70f0acce89fc37c4a6abe"
   }
  }
 },
 "nbformat": 4,
 "nbformat_minor": 2
}
